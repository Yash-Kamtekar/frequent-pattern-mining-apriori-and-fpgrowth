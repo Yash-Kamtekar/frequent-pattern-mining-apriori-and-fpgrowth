{
  "nbformat": 4,
  "nbformat_minor": 0,
  "metadata": {
    "colab": {
      "name": "Apriori_Assignment_and_FP_Growth.ipynb",
      "provenance": [],
      "include_colab_link": true
    },
    "kernelspec": {
      "name": "python3",
      "display_name": "Python 3"
    },
    "language_info": {
      "name": "python"
    }
  },
  "cells": [
    {
      "cell_type": "markdown",
      "metadata": {
        "id": "view-in-github",
        "colab_type": "text"
      },
      "source": [
        "<a href=\"https://colab.research.google.com/github/Yash-Kamtekar/frequent-pattern-mining-apriori-and-fpgrowth/blob/main/Apriori_Assignment_and_FP_Growth.ipynb\" target=\"_parent\"><img src=\"https://colab.research.google.com/assets/colab-badge.svg\" alt=\"Open In Colab\"/></a>"
      ]
    },
    {
      "cell_type": "markdown",
      "metadata": {
        "id": "BlTJ648uoQ60"
      },
      "source": [
        "#Apriori and FP Growth Assignment\n",
        "Group Name:- Abraca-data\n",
        "Group Members\n",
        "\n",
        "\n",
        "1.   Swathi Anandram\n",
        "2.   Yash Kamtekar\n",
        "3.   Aryan Jadon"
      ]
    },
    {
      "cell_type": "markdown",
      "metadata": {
        "id": "xmO9GttRoXUk"
      },
      "source": [
        "###APRIORI ALGORITHM\n",
        "Apriori is an algorithm for frequent item set mining and association rule learning over relational databases. It proceeds by identifying the frequent individual items in the database and extending them to larger and larger item sets as long as those item sets appear sufficiently often in the database. The frequent item sets determined by Apriori can be used to determine association rules which highlight general trends in the database: this has applications in domains such as market basket analysis."
      ]
    },
    {
      "cell_type": "markdown",
      "metadata": {
        "id": "Rzp_mwLyokjO"
      },
      "source": [
        "###FP GROWTH ALGORITHM\n",
        "FP growth algorithm represents the database in the form of a tree called a frequent pattern tree or FP tree. This tree structure will maintain the association between the itemsets. The database is fragmented using one frequent item. The itemsets of these fragmented patterns are analyzed."
      ]
    },
    {
      "cell_type": "markdown",
      "metadata": {
        "id": "TIbZEciJpZ00"
      },
      "source": [
        "###Installing necessary libraries"
      ]
    },
    {
      "cell_type": "code",
      "metadata": {
        "colab": {
          "base_uri": "https://localhost:8080/"
        },
        "id": "5ORcLeepm2On",
        "outputId": "7a46117a-5554-46db-fef7-f29d20ecdc14"
      },
      "source": [
        "!pip install mlxtend --upgrade"
      ],
      "execution_count": 1,
      "outputs": [
        {
          "output_type": "stream",
          "name": "stdout",
          "text": [
            "Requirement already satisfied: mlxtend in /usr/local/lib/python3.7/dist-packages (0.14.0)\n",
            "Collecting mlxtend\n",
            "  Downloading mlxtend-0.19.0-py2.py3-none-any.whl (1.3 MB)\n",
            "\u001b[K     |████████████████████████████████| 1.3 MB 7.1 MB/s \n",
            "\u001b[?25hRequirement already satisfied: scipy>=1.2.1 in /usr/local/lib/python3.7/dist-packages (from mlxtend) (1.4.1)\n",
            "Requirement already satisfied: matplotlib>=3.0.0 in /usr/local/lib/python3.7/dist-packages (from mlxtend) (3.2.2)\n",
            "Requirement already satisfied: pandas>=0.24.2 in /usr/local/lib/python3.7/dist-packages (from mlxtend) (1.1.5)\n",
            "Requirement already satisfied: scikit-learn>=0.20.3 in /usr/local/lib/python3.7/dist-packages (from mlxtend) (1.0.1)\n",
            "Requirement already satisfied: numpy>=1.16.2 in /usr/local/lib/python3.7/dist-packages (from mlxtend) (1.19.5)\n",
            "Requirement already satisfied: setuptools in /usr/local/lib/python3.7/dist-packages (from mlxtend) (57.4.0)\n",
            "Requirement already satisfied: joblib>=0.13.2 in /usr/local/lib/python3.7/dist-packages (from mlxtend) (1.1.0)\n",
            "Requirement already satisfied: pyparsing!=2.0.4,!=2.1.2,!=2.1.6,>=2.0.1 in /usr/local/lib/python3.7/dist-packages (from matplotlib>=3.0.0->mlxtend) (3.0.6)\n",
            "Requirement already satisfied: cycler>=0.10 in /usr/local/lib/python3.7/dist-packages (from matplotlib>=3.0.0->mlxtend) (0.11.0)\n",
            "Requirement already satisfied: python-dateutil>=2.1 in /usr/local/lib/python3.7/dist-packages (from matplotlib>=3.0.0->mlxtend) (2.8.2)\n",
            "Requirement already satisfied: kiwisolver>=1.0.1 in /usr/local/lib/python3.7/dist-packages (from matplotlib>=3.0.0->mlxtend) (1.3.2)\n",
            "Requirement already satisfied: pytz>=2017.2 in /usr/local/lib/python3.7/dist-packages (from pandas>=0.24.2->mlxtend) (2018.9)\n",
            "Requirement already satisfied: six>=1.5 in /usr/local/lib/python3.7/dist-packages (from python-dateutil>=2.1->matplotlib>=3.0.0->mlxtend) (1.15.0)\n",
            "Requirement already satisfied: threadpoolctl>=2.0.0 in /usr/local/lib/python3.7/dist-packages (from scikit-learn>=0.20.3->mlxtend) (3.0.0)\n",
            "Installing collected packages: mlxtend\n",
            "  Attempting uninstall: mlxtend\n",
            "    Found existing installation: mlxtend 0.14.0\n",
            "    Uninstalling mlxtend-0.14.0:\n",
            "      Successfully uninstalled mlxtend-0.14.0\n",
            "Successfully installed mlxtend-0.19.0\n"
          ]
        }
      ]
    },
    {
      "cell_type": "markdown",
      "metadata": {
        "id": "zTTSiovvpeme"
      },
      "source": [
        "###Importing necessary libraries"
      ]
    },
    {
      "cell_type": "code",
      "metadata": {
        "id": "6xXhNzs9nWUm"
      },
      "source": [
        "import pandas as pd\n",
        "from mlxtend.preprocessing import TransactionEncoder\n",
        "from mlxtend.frequent_patterns import apriori, fpgrowth, association_rules"
      ],
      "execution_count": 2,
      "outputs": []
    },
    {
      "cell_type": "markdown",
      "metadata": {
        "id": "CCraTq0evLUv"
      },
      "source": [
        "###Kaggle setup to load dataset"
      ]
    },
    {
      "cell_type": "code",
      "metadata": {
        "colab": {
          "base_uri": "https://localhost:8080/"
        },
        "id": "g7l6HukbwBW0",
        "outputId": "a77d4b90-686c-4d75-9d12-f7df9049a229"
      },
      "source": [
        "!rm -rf ~/.kaggle\n",
        "!ls"
      ],
      "execution_count": 3,
      "outputs": [
        {
          "output_type": "stream",
          "name": "stdout",
          "text": [
            "sample_data\n"
          ]
        }
      ]
    },
    {
      "cell_type": "code",
      "metadata": {
        "colab": {
          "resources": {
            "http://localhost:8080/nbextensions/google.colab/files.js": {
              "data": "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",
              "ok": true,
              "headers": [
                [
                  "content-type",
                  "application/javascript"
                ]
              ],
              "status": 200,
              "status_text": ""
            }
          },
          "base_uri": "https://localhost:8080/",
          "height": 281
        },
        "id": "iR3pqU_zvSuv",
        "outputId": "6b54c9f4-5f73-4a72-b7f6-f8e4d30ac8d4"
      },
      "source": [
        "!pip install kaggle\n",
        "from google.colab import files\n",
        "files.upload()"
      ],
      "execution_count": 4,
      "outputs": [
        {
          "output_type": "stream",
          "name": "stdout",
          "text": [
            "Requirement already satisfied: kaggle in /usr/local/lib/python3.7/dist-packages (1.5.12)\n",
            "Requirement already satisfied: urllib3 in /usr/local/lib/python3.7/dist-packages (from kaggle) (1.24.3)\n",
            "Requirement already satisfied: tqdm in /usr/local/lib/python3.7/dist-packages (from kaggle) (4.62.3)\n",
            "Requirement already satisfied: certifi in /usr/local/lib/python3.7/dist-packages (from kaggle) (2021.10.8)\n",
            "Requirement already satisfied: requests in /usr/local/lib/python3.7/dist-packages (from kaggle) (2.23.0)\n",
            "Requirement already satisfied: python-dateutil in /usr/local/lib/python3.7/dist-packages (from kaggle) (2.8.2)\n",
            "Requirement already satisfied: six>=1.10 in /usr/local/lib/python3.7/dist-packages (from kaggle) (1.15.0)\n",
            "Requirement already satisfied: python-slugify in /usr/local/lib/python3.7/dist-packages (from kaggle) (5.0.2)\n",
            "Requirement already satisfied: text-unidecode>=1.3 in /usr/local/lib/python3.7/dist-packages (from python-slugify->kaggle) (1.3)\n",
            "Requirement already satisfied: chardet<4,>=3.0.2 in /usr/local/lib/python3.7/dist-packages (from requests->kaggle) (3.0.4)\n",
            "Requirement already satisfied: idna<3,>=2.5 in /usr/local/lib/python3.7/dist-packages (from requests->kaggle) (2.10)\n"
          ]
        },
        {
          "output_type": "display_data",
          "data": {
            "text/html": [
              "\n",
              "     <input type=\"file\" id=\"files-fe4049d7-8f76-4f29-bbd1-75f0213703a2\" name=\"files[]\" multiple disabled\n",
              "        style=\"border:none\" />\n",
              "     <output id=\"result-fe4049d7-8f76-4f29-bbd1-75f0213703a2\">\n",
              "      Upload widget is only available when the cell has been executed in the\n",
              "      current browser session. Please rerun this cell to enable.\n",
              "      </output>\n",
              "      <script src=\"/nbextensions/google.colab/files.js\"></script> "
            ],
            "text/plain": [
              "<IPython.core.display.HTML object>"
            ]
          },
          "metadata": {}
        },
        {
          "output_type": "stream",
          "name": "stdout",
          "text": [
            "Saving kaggle.json to kaggle.json\n"
          ]
        },
        {
          "output_type": "execute_result",
          "data": {
            "text/plain": [
              "{'kaggle.json': b'{\"username\":\"yashkamtekar\",\"key\":\"892f205c6a7ce201835363775cd0d70f\"}'}"
            ]
          },
          "metadata": {},
          "execution_count": 4
        }
      ]
    },
    {
      "cell_type": "code",
      "metadata": {
        "colab": {
          "base_uri": "https://localhost:8080/"
        },
        "id": "H7QUO_ZeiFLA",
        "outputId": "45cbd0b7-028a-424b-da93-75e3e4d5645b"
      },
      "source": [
        "!ls"
      ],
      "execution_count": 5,
      "outputs": [
        {
          "output_type": "stream",
          "name": "stdout",
          "text": [
            "kaggle.json  sample_data\n"
          ]
        }
      ]
    },
    {
      "cell_type": "code",
      "metadata": {
        "id": "R085XX6KzA8l"
      },
      "source": [
        "!mkdir ~/.kaggle\n",
        "!cp kaggle.json ~/.kaggle/\n",
        "!chmod 600 ~/.kaggle/kaggle.json\n"
      ],
      "execution_count": 6,
      "outputs": []
    },
    {
      "cell_type": "code",
      "metadata": {
        "colab": {
          "base_uri": "https://localhost:8080/"
        },
        "id": "IuD2Y1_oG4Bp",
        "outputId": "99591d01-cd68-4030-f859-62e3323e4c65"
      },
      "source": [
        "!kaggle kernels output roshansharma/market-basket-analysis -p /path/to/dest"
      ],
      "execution_count": 7,
      "outputs": [
        {
          "output_type": "stream",
          "name": "stdout",
          "text": [
            "Warning: Looks like you're using an outdated API Version, please consider updating (server 1.5.12 / client 1.5.4)\n",
            "Kernel log downloaded to /path/to/dest/market-basket-analysis.log \n"
          ]
        }
      ]
    },
    {
      "cell_type": "code",
      "metadata": {
        "colab": {
          "base_uri": "https://localhost:8080/"
        },
        "id": "T1PKNDHhgkYr",
        "outputId": "89714a33-5434-4225-b5ee-9dd365e87a23"
      },
      "source": [
        "!kaggle datasets download heeraldedhia/groceries-dataset"
      ],
      "execution_count": 8,
      "outputs": [
        {
          "output_type": "stream",
          "name": "stdout",
          "text": [
            "Downloading groceries-dataset.zip to /content\n",
            "\r  0% 0.00/257k [00:00<?, ?B/s]\n",
            "\r100% 257k/257k [00:00<00:00, 17.0MB/s]\n"
          ]
        }
      ]
    },
    {
      "cell_type": "code",
      "metadata": {
        "colab": {
          "base_uri": "https://localhost:8080/"
        },
        "id": "Rz1_Gblqz3Bz",
        "outputId": "37fc901f-0a35-47d2-d762-34377217bbf7"
      },
      "source": [
        "!ls\n",
        "!unzip groceries-dataset.zip"
      ],
      "execution_count": 9,
      "outputs": [
        {
          "output_type": "stream",
          "name": "stdout",
          "text": [
            "groceries-dataset.zip  kaggle.json  sample_data\n",
            "Archive:  groceries-dataset.zip\n",
            "  inflating: Groceries_dataset.csv   \n"
          ]
        }
      ]
    },
    {
      "cell_type": "markdown",
      "metadata": {
        "id": "aRyyDGLPqF-C"
      },
      "source": [
        "###Load the data frame and change it to the necessary format"
      ]
    },
    {
      "cell_type": "code",
      "metadata": {
        "colab": {
          "base_uri": "https://localhost:8080/",
          "height": 424
        },
        "id": "-Pu4u7-KHUci",
        "outputId": "0adc0705-6782-4f6e-f188-50d424b36a9e"
      },
      "source": [
        "data_frame = pd.read_csv('Groceries_dataset.csv')\n",
        "data_frame"
      ],
      "execution_count": 10,
      "outputs": [
        {
          "output_type": "execute_result",
          "data": {
            "text/html": [
              "<div>\n",
              "<style scoped>\n",
              "    .dataframe tbody tr th:only-of-type {\n",
              "        vertical-align: middle;\n",
              "    }\n",
              "\n",
              "    .dataframe tbody tr th {\n",
              "        vertical-align: top;\n",
              "    }\n",
              "\n",
              "    .dataframe thead th {\n",
              "        text-align: right;\n",
              "    }\n",
              "</style>\n",
              "<table border=\"1\" class=\"dataframe\">\n",
              "  <thead>\n",
              "    <tr style=\"text-align: right;\">\n",
              "      <th></th>\n",
              "      <th>Member_number</th>\n",
              "      <th>Date</th>\n",
              "      <th>itemDescription</th>\n",
              "    </tr>\n",
              "  </thead>\n",
              "  <tbody>\n",
              "    <tr>\n",
              "      <th>0</th>\n",
              "      <td>1808</td>\n",
              "      <td>21-07-2015</td>\n",
              "      <td>tropical fruit</td>\n",
              "    </tr>\n",
              "    <tr>\n",
              "      <th>1</th>\n",
              "      <td>2552</td>\n",
              "      <td>05-01-2015</td>\n",
              "      <td>whole milk</td>\n",
              "    </tr>\n",
              "    <tr>\n",
              "      <th>2</th>\n",
              "      <td>2300</td>\n",
              "      <td>19-09-2015</td>\n",
              "      <td>pip fruit</td>\n",
              "    </tr>\n",
              "    <tr>\n",
              "      <th>3</th>\n",
              "      <td>1187</td>\n",
              "      <td>12-12-2015</td>\n",
              "      <td>other vegetables</td>\n",
              "    </tr>\n",
              "    <tr>\n",
              "      <th>4</th>\n",
              "      <td>3037</td>\n",
              "      <td>01-02-2015</td>\n",
              "      <td>whole milk</td>\n",
              "    </tr>\n",
              "    <tr>\n",
              "      <th>...</th>\n",
              "      <td>...</td>\n",
              "      <td>...</td>\n",
              "      <td>...</td>\n",
              "    </tr>\n",
              "    <tr>\n",
              "      <th>38760</th>\n",
              "      <td>4471</td>\n",
              "      <td>08-10-2014</td>\n",
              "      <td>sliced cheese</td>\n",
              "    </tr>\n",
              "    <tr>\n",
              "      <th>38761</th>\n",
              "      <td>2022</td>\n",
              "      <td>23-02-2014</td>\n",
              "      <td>candy</td>\n",
              "    </tr>\n",
              "    <tr>\n",
              "      <th>38762</th>\n",
              "      <td>1097</td>\n",
              "      <td>16-04-2014</td>\n",
              "      <td>cake bar</td>\n",
              "    </tr>\n",
              "    <tr>\n",
              "      <th>38763</th>\n",
              "      <td>1510</td>\n",
              "      <td>03-12-2014</td>\n",
              "      <td>fruit/vegetable juice</td>\n",
              "    </tr>\n",
              "    <tr>\n",
              "      <th>38764</th>\n",
              "      <td>1521</td>\n",
              "      <td>26-12-2014</td>\n",
              "      <td>cat food</td>\n",
              "    </tr>\n",
              "  </tbody>\n",
              "</table>\n",
              "<p>38765 rows × 3 columns</p>\n",
              "</div>"
            ],
            "text/plain": [
              "       Member_number        Date        itemDescription\n",
              "0               1808  21-07-2015         tropical fruit\n",
              "1               2552  05-01-2015             whole milk\n",
              "2               2300  19-09-2015              pip fruit\n",
              "3               1187  12-12-2015       other vegetables\n",
              "4               3037  01-02-2015             whole milk\n",
              "...              ...         ...                    ...\n",
              "38760           4471  08-10-2014          sliced cheese\n",
              "38761           2022  23-02-2014                  candy\n",
              "38762           1097  16-04-2014               cake bar\n",
              "38763           1510  03-12-2014  fruit/vegetable juice\n",
              "38764           1521  26-12-2014               cat food\n",
              "\n",
              "[38765 rows x 3 columns]"
            ]
          },
          "metadata": {},
          "execution_count": 10
        }
      ]
    },
    {
      "cell_type": "code",
      "metadata": {
        "id": "Z_fgQX4rnsDH",
        "colab": {
          "base_uri": "https://localhost:8080/"
        },
        "outputId": "a04c0f73-4c6c-4eb1-ac4d-528c50526139"
      },
      "source": [
        "data_frame = pd.read_csv('Groceries_dataset.csv')\n",
        "data_frame.product_name = [\"\".join(i.split(\",\")) for i in data_frame.itemDescription]\n",
        "member_labels = data_frame.Member_number.unique()\n",
        "transactions = [data_frame[data_frame.Member_number == i][\"itemDescription\"].tolist() for i in member_labels]\n",
        "trans_encoder = TransactionEncoder().fit(transactions)\n",
        "transactions = trans_encoder.transform(transactions)\n",
        "transactions = pd.DataFrame(transactions,columns=trans_encoder.columns_)"
      ],
      "execution_count": 11,
      "outputs": [
        {
          "output_type": "stream",
          "name": "stderr",
          "text": [
            "/usr/local/lib/python3.7/dist-packages/ipykernel_launcher.py:2: UserWarning: Pandas doesn't allow columns to be created via a new attribute name - see https://pandas.pydata.org/pandas-docs/stable/indexing.html#attribute-access\n",
            "  \n"
          ]
        }
      ]
    },
    {
      "cell_type": "markdown",
      "metadata": {
        "id": "kGWkm-idqM75"
      },
      "source": [
        "###Calculate the frequent itemset using both Apriori and FPGrowth, also calculate the Association rules using both Apriori and FPGrowth"
      ]
    },
    {
      "cell_type": "code",
      "metadata": {
        "id": "slCHavZSn_z-"
      },
      "source": [
        "freq_itemset_using_apriori = apriori(transactions, min_support = 0.0045, use_colnames = True)\n",
        "freq_itemset_using_fpgrowth = fpgrowth(transactions, min_support = 0.0045, use_colnames=True)\n",
        "association_rules_using_apriori = association_rules(freq_itemset_using_apriori, metric = \"confidence\")\n",
        "association_rules_using_fpgrowth = association_rules(freq_itemset_using_fpgrowth, metric = \"confidence\")"
      ],
      "execution_count": 12,
      "outputs": []
    },
    {
      "cell_type": "markdown",
      "metadata": {
        "id": "emjzE-UUqby5"
      },
      "source": [
        "###Association Rules generation using Apriori Method"
      ]
    },
    {
      "cell_type": "code",
      "metadata": {
        "colab": {
          "base_uri": "https://localhost:8080/"
        },
        "id": "fLhzSzyToGBZ",
        "outputId": "36bdeca9-6499-411b-d05a-a4a490963d60"
      },
      "source": [
        "print(\"Association Rules using Apriori Method:- \\n\")\n",
        "for item in association_rules_using_apriori.iterrows():\n",
        "  print(f\"Rule {item[0] + 1}: {tuple(item[1].antecedents)} -> {tuple(item[1].consequents)}\")"
      ],
      "execution_count": 13,
      "outputs": [
        {
          "output_type": "stream",
          "name": "stdout",
          "text": [
            "Association Rules using Apriori Method:- \n",
            "\n",
            "Rule 1: ('meat spreads',) -> ('whole milk',)\n",
            "Rule 2: ('canned vegetables', 'bottled water') -> ('whole milk',)\n",
            "Rule 3: ('chewing gum', 'white bread') -> ('whole milk',)\n",
            "Rule 4: ('ham', 'curd') -> ('whole milk',)\n",
            "Rule 5: ('shopping bags', 'frozen fish') -> ('whole milk',)\n",
            "Rule 6: ('mayonnaise', 'other vegetables') -> ('whole milk',)\n",
            "Rule 7: ('soft cheese', 'sausage') -> ('whole milk',)\n",
            "Rule 8: ('citrus fruit', 'beef', 'bottled beer') -> ('whole milk',)\n",
            "Rule 9: ('beef', 'root vegetables', 'bottled beer') -> ('whole milk',)\n",
            "Rule 10: ('bottled water', 'berries', 'pip fruit') -> ('other vegetables',)\n",
            "Rule 11: ('yogurt', 'berries', 'pip fruit') -> ('whole milk',)\n",
            "Rule 12: ('yogurt', 'shopping bags', 'berries') -> ('whole milk',)\n",
            "Rule 13: ('brown bread', 'shopping bags', 'bottled beer') -> ('whole milk',)\n",
            "Rule 14: ('cat food', 'other vegetables', 'bottled beer') -> ('whole milk',)\n",
            "Rule 15: ('margarine', 'bottled water', 'newspapers') -> ('whole milk',)\n",
            "Rule 16: ('other vegetables', 'specialty chocolate', 'bottled water') -> ('whole milk',)\n",
            "Rule 17: ('brown bread', 'curd', 'canned beer') -> ('whole milk',)\n",
            "Rule 18: ('brown bread', 'soda', 'curd') -> ('whole milk',)\n",
            "Rule 19: ('brown bread', 'other vegetables', 'meat') -> ('whole milk',)\n",
            "Rule 20: ('butter milk', 'shopping bags', 'rolls/buns') -> ('whole milk',)\n",
            "Rule 21: ('yogurt', 'citrus fruit', 'candy') -> ('whole milk',)\n",
            "Rule 22: ('yogurt', 'cat food', 'sausage') -> ('other vegetables',)\n",
            "Rule 23: ('yogurt', 'cat food', 'sausage') -> ('whole milk',)\n",
            "Rule 24: ('pastry', 'yogurt', 'chocolate') -> ('whole milk',)\n",
            "Rule 25: ('yogurt', 'ham', 'citrus fruit') -> ('whole milk',)\n",
            "Rule 26: ('soda', 'curd', 'shopping bags') -> ('whole milk',)\n",
            "Rule 27: ('other vegetables', 'dessert', 'white bread') -> ('rolls/buns',)\n",
            "Rule 28: ('domestic eggs', 'other vegetables', 'meat') -> ('whole milk',)\n",
            "Rule 29: ('pastry', 'domestic eggs', 'pip fruit') -> ('whole milk',)\n",
            "Rule 30: ('yogurt', 'shopping bags', 'frozen vegetables') -> ('whole milk',)\n",
            "Rule 31: ('pastry', 'yogurt', 'ham') -> ('whole milk',)\n",
            "Rule 32: ('ham', 'rolls/buns', 'root vegetables') -> ('whole milk',)\n",
            "Rule 33: ('yogurt', 'ham', 'root vegetables') -> ('whole milk',)\n",
            "Rule 34: ('yogurt', 'hamburger meat', 'newspapers') -> ('whole milk',)\n",
            "Rule 35: ('soda', 'pork', 'white bread') -> ('whole milk',)\n",
            "Rule 36: ('sugar', 'root vegetables', 'rolls/buns') -> ('whole milk',)\n",
            "Rule 37: ('yogurt', 'citrus fruit', 'rolls/buns', 'bottled beer') -> ('whole milk',)\n",
            "Rule 38: ('pastry', 'yogurt', 'other vegetables', 'bottled beer') -> ('whole milk',)\n",
            "Rule 39: ('yogurt', 'other vegetables', 'rolls/buns', 'bottled beer') -> ('whole milk',)\n",
            "Rule 40: ('tropical fruit', 'other vegetables', 'canned beer', 'bottled water') -> ('whole milk',)\n",
            "Rule 41: ('yogurt', 'bottled water', 'other vegetables', 'frankfurter') -> ('whole milk',)\n",
            "Rule 42: ('yogurt', 'other vegetables', 'pip fruit', 'bottled water') -> ('whole milk',)\n",
            "Rule 43: ('yogurt', 'rolls/buns', 'pip fruit', 'bottled water') -> ('whole milk',)\n",
            "Rule 44: ('yogurt', 'soda', 'pip fruit', 'bottled water') -> ('whole milk',)\n",
            "Rule 45: ('yogurt', 'rolls/buns', 'root vegetables', 'bottled water') -> ('whole milk',)\n",
            "Rule 46: ('pastry', 'yogurt', 'brown bread', 'rolls/buns') -> ('whole milk',)\n",
            "Rule 47: ('brown bread', 'soda', 'shopping bags', 'rolls/buns') -> ('whole milk',)\n",
            "Rule 48: ('yogurt', 'brown bread', 'shopping bags', 'rolls/buns') -> ('whole milk',)\n",
            "Rule 49: ('yogurt', 'other vegetables', 'whipped/sour cream', 'butter') -> ('whole milk',)\n",
            "Rule 50: ('tropical fruit', 'soda', 'other vegetables', 'canned beer') -> ('whole milk',)\n",
            "Rule 51: ('tropical fruit', 'yogurt', 'other vegetables', 'canned beer') -> ('whole milk',)\n",
            "Rule 52: ('canned beer', 'soda', 'shopping bags', 'rolls/buns') -> ('whole milk',)\n",
            "Rule 53: ('coffee', 'other vegetables', 'rolls/buns', 'sausage') -> ('whole milk',)\n",
            "Rule 54: ('pastry', 'yogurt', 'other vegetables', 'rolls/buns') -> ('whole milk',)\n",
            "Rule 55: ('pastry', 'yogurt', 'other vegetables', 'whipped/sour cream') -> ('whole milk',)\n",
            "Rule 56: ('yogurt', 'soda', 'other vegetables', 'pork') -> ('whole milk',)\n",
            "Rule 57: ('pastry', 'yogurt', 'rolls/buns', 'root vegetables') -> ('whole milk',)\n",
            "Rule 58: ('yogurt', 'soda', 'pork', 'pip fruit') -> ('whole milk',)\n",
            "Rule 59: ('soda', 'shopping bags', 'pork', 'rolls/buns') -> ('whole milk',)\n"
          ]
        }
      ]
    },
    {
      "cell_type": "markdown",
      "metadata": {
        "id": "BCGuV3kjqrsi"
      },
      "source": [
        "###Association Rules generation using FPGrowth Method"
      ]
    },
    {
      "cell_type": "code",
      "metadata": {
        "colab": {
          "base_uri": "https://localhost:8080/"
        },
        "id": "vrXH8eazoIp0",
        "outputId": "736ade57-f81f-4c28-c0ea-e78c00b4b490"
      },
      "source": [
        "print(\"Association Rules using fpgrowth Method:- \\n\")\n",
        "for item in association_rules_using_fpgrowth.iterrows():\n",
        "  print(f\"Rule {item[0] + 1}: {tuple(item[1].antecedents)} -> {tuple(item[1].consequents)}\")"
      ],
      "execution_count": 14,
      "outputs": [
        {
          "output_type": "stream",
          "name": "stdout",
          "text": [
            "Association Rules using fpgrowth Method:- \n",
            "\n",
            "Rule 1: ('sugar', 'root vegetables', 'rolls/buns') -> ('whole milk',)\n",
            "Rule 2: ('domestic eggs', 'other vegetables', 'meat') -> ('whole milk',)\n",
            "Rule 3: ('brown bread', 'other vegetables', 'meat') -> ('whole milk',)\n",
            "Rule 4: ('yogurt', 'citrus fruit', 'candy') -> ('whole milk',)\n",
            "Rule 5: ('yogurt', 'other vegetables', 'whipped/sour cream', 'butter') -> ('whole milk',)\n",
            "Rule 6: ('coffee', 'other vegetables', 'rolls/buns', 'sausage') -> ('whole milk',)\n",
            "Rule 7: ('pastry', 'yogurt', 'chocolate') -> ('whole milk',)\n",
            "Rule 8: ('yogurt', 'other vegetables', 'pip fruit', 'bottled water') -> ('whole milk',)\n",
            "Rule 9: ('yogurt', 'rolls/buns', 'pip fruit', 'bottled water') -> ('whole milk',)\n",
            "Rule 10: ('yogurt', 'soda', 'pip fruit', 'bottled water') -> ('whole milk',)\n",
            "Rule 11: ('yogurt', 'bottled water', 'other vegetables', 'frankfurter') -> ('whole milk',)\n",
            "Rule 12: ('yogurt', 'soda', 'pork', 'pip fruit') -> ('whole milk',)\n",
            "Rule 13: ('soda', 'shopping bags', 'pork', 'rolls/buns') -> ('whole milk',)\n",
            "Rule 14: ('yogurt', 'soda', 'other vegetables', 'pork') -> ('whole milk',)\n",
            "Rule 15: ('pastry', 'domestic eggs', 'pip fruit') -> ('whole milk',)\n",
            "Rule 16: ('soda', 'pork', 'white bread') -> ('whole milk',)\n",
            "Rule 17: ('yogurt', 'ham', 'citrus fruit') -> ('whole milk',)\n",
            "Rule 18: ('pastry', 'yogurt', 'ham') -> ('whole milk',)\n",
            "Rule 19: ('ham', 'rolls/buns', 'root vegetables') -> ('whole milk',)\n",
            "Rule 20: ('yogurt', 'ham', 'root vegetables') -> ('whole milk',)\n",
            "Rule 21: ('ham', 'curd') -> ('whole milk',)\n",
            "Rule 22: ('tropical fruit', 'other vegetables', 'canned beer', 'bottled water') -> ('whole milk',)\n",
            "Rule 23: ('canned beer', 'soda', 'shopping bags', 'rolls/buns') -> ('whole milk',)\n",
            "Rule 24: ('tropical fruit', 'yogurt', 'other vegetables', 'canned beer') -> ('whole milk',)\n",
            "Rule 25: ('tropical fruit', 'soda', 'other vegetables', 'canned beer') -> ('whole milk',)\n",
            "Rule 26: ('yogurt', 'other vegetables', 'rolls/buns', 'bottled beer') -> ('whole milk',)\n",
            "Rule 27: ('yogurt', 'citrus fruit', 'rolls/buns', 'bottled beer') -> ('whole milk',)\n",
            "Rule 28: ('pastry', 'yogurt', 'other vegetables', 'bottled beer') -> ('whole milk',)\n",
            "Rule 29: ('yogurt', 'hamburger meat', 'newspapers') -> ('whole milk',)\n",
            "Rule 30: ('butter milk', 'shopping bags', 'rolls/buns') -> ('whole milk',)\n",
            "Rule 31: ('yogurt', 'rolls/buns', 'root vegetables', 'bottled water') -> ('whole milk',)\n",
            "Rule 32: ('brown bread', 'soda', 'shopping bags', 'rolls/buns') -> ('whole milk',)\n",
            "Rule 33: ('yogurt', 'brown bread', 'shopping bags', 'rolls/buns') -> ('whole milk',)\n",
            "Rule 34: ('pastry', 'yogurt', 'brown bread', 'rolls/buns') -> ('whole milk',)\n",
            "Rule 35: ('brown bread', 'shopping bags', 'bottled beer') -> ('whole milk',)\n",
            "Rule 36: ('other vegetables', 'dessert', 'white bread') -> ('rolls/buns',)\n",
            "Rule 37: ('yogurt', 'shopping bags', 'berries') -> ('whole milk',)\n",
            "Rule 38: ('bottled water', 'berries', 'pip fruit') -> ('other vegetables',)\n",
            "Rule 39: ('yogurt', 'berries', 'pip fruit') -> ('whole milk',)\n",
            "Rule 40: ('pastry', 'yogurt', 'other vegetables', 'whipped/sour cream') -> ('whole milk',)\n",
            "Rule 41: ('chewing gum', 'white bread') -> ('whole milk',)\n",
            "Rule 42: ('pastry', 'yogurt', 'rolls/buns', 'root vegetables') -> ('whole milk',)\n",
            "Rule 43: ('pastry', 'yogurt', 'other vegetables', 'rolls/buns') -> ('whole milk',)\n",
            "Rule 44: ('beef', 'root vegetables', 'bottled beer') -> ('whole milk',)\n",
            "Rule 45: ('citrus fruit', 'beef', 'bottled beer') -> ('whole milk',)\n",
            "Rule 46: ('yogurt', 'shopping bags', 'frozen vegetables') -> ('whole milk',)\n",
            "Rule 47: ('other vegetables', 'specialty chocolate', 'bottled water') -> ('whole milk',)\n",
            "Rule 48: ('margarine', 'bottled water', 'newspapers') -> ('whole milk',)\n",
            "Rule 49: ('soda', 'curd', 'shopping bags') -> ('whole milk',)\n",
            "Rule 50: ('brown bread', 'curd', 'canned beer') -> ('whole milk',)\n",
            "Rule 51: ('brown bread', 'soda', 'curd') -> ('whole milk',)\n",
            "Rule 52: ('soft cheese', 'sausage') -> ('whole milk',)\n",
            "Rule 53: ('canned vegetables', 'bottled water') -> ('whole milk',)\n",
            "Rule 54: ('yogurt', 'cat food', 'sausage') -> ('other vegetables',)\n",
            "Rule 55: ('yogurt', 'cat food', 'sausage') -> ('whole milk',)\n",
            "Rule 56: ('cat food', 'other vegetables', 'bottled beer') -> ('whole milk',)\n",
            "Rule 57: ('meat spreads',) -> ('whole milk',)\n",
            "Rule 58: ('shopping bags', 'frozen fish') -> ('whole milk',)\n",
            "Rule 59: ('mayonnaise', 'other vegetables') -> ('whole milk',)\n"
          ]
        }
      ]
    },
    {
      "cell_type": "markdown",
      "metadata": {
        "id": "H3nYrk6NOAE4"
      },
      "source": [
        "###Visualization of support and confidence for Apriori"
      ]
    },
    {
      "cell_type": "code",
      "metadata": {
        "id": "Y13sgvSPMziu"
      },
      "source": [
        " support_for_apriori = association_rules_using_apriori['support'].values\n",
        " confidence_for_apriori = association_rules_using_apriori['confidence'].values"
      ],
      "execution_count": 15,
      "outputs": []
    },
    {
      "cell_type": "code",
      "metadata": {
        "colab": {
          "base_uri": "https://localhost:8080/",
          "height": 280
        },
        "id": "rH6LzlEzM48_",
        "outputId": "c05a5892-203e-4ca5-a82f-e10d9ef34818"
      },
      "source": [
        "import random\n",
        "import matplotlib.pyplot as plt\n",
        " \n",
        " \n",
        "for i in range (len(support_for_apriori)):\n",
        "   support_for_apriori[i] = support_for_apriori[i] + 0.0025 * (random.randint(1,10) - 5) \n",
        "   confidence_for_apriori[i] = confidence_for_apriori[i] + 0.0025 * (random.randint(1,10) - 5)\n",
        " \n",
        "plt.scatter(support_for_apriori, confidence_for_apriori,   alpha=0.5, marker=\"*\")\n",
        "plt.xlabel('support_for_apriori')\n",
        "plt.ylabel('confidence_for_apriori') \n",
        "plt.show()"
      ],
      "execution_count": 16,
      "outputs": [
        {
          "output_type": "display_data",
          "data": {
            "image/png": "[encoded data removed]",
            "text/plain": [
              "<Figure size 432x288 with 1 Axes>"
            ]
          },
          "metadata": {
            "needs_background": "light"
          }
        }
      ]
    },
    {
      "cell_type": "markdown",
      "metadata": {
        "id": "xtyEjFahOGf9"
      },
      "source": [
        "###Visualization of support and confidence for FP Growth"
      ]
    },
    {
      "cell_type": "code",
      "metadata": {
        "id": "9Ui0sYm8NMPS"
      },
      "source": [
        " support_for_fp = association_rules_using_fpgrowth['support'].values\n",
        " confidence_for_fp = association_rules_using_fpgrowth['confidence'].values"
      ],
      "execution_count": 17,
      "outputs": []
    },
    {
      "cell_type": "code",
      "metadata": {
        "colab": {
          "base_uri": "https://localhost:8080/",
          "height": 280
        },
        "id": "McLfX4TMNWNU",
        "outputId": "bfc695cc-78eb-433b-a82d-4228de602684"
      },
      "source": [
        "import random\n",
        "import matplotlib.pyplot as plt\n",
        " \n",
        " \n",
        "for i in range (len(support_for_fp)):\n",
        "   support_for_fp[i] = support_for_fp[i] + 0.0025 * (random.randint(1,10) - 5) \n",
        "   confidence_for_fp[i] = confidence_for_fp[i] + 0.0025 * (random.randint(1,10) - 5)\n",
        " \n",
        "plt.scatter(support_for_fp, confidence_for_fp,   alpha=0.5, marker=\"*\")\n",
        "plt.xlabel('support_for_fp')\n",
        "plt.ylabel('confidence_for_fp') \n",
        "plt.show()"
      ],
      "execution_count": 18,
      "outputs": [
        {
          "output_type": "display_data",
          "data": {
            "image/png": "[encoded data removed]",
            "text/plain": [
              "<Figure size 432x288 with 1 Axes>"
            ]
          },
          "metadata": {
            "needs_background": "light"
          }
        }
      ]
    }
  ]
}
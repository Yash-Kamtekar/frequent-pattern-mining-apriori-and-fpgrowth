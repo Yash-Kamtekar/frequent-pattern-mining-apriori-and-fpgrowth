{
  "nbformat": 4,
  "nbformat_minor": 0,
  "metadata": {
    "colab": {
      "name": "Apriori_FP_Growth_Assignment.ipynb",
      "provenance": [],
      "authorship_tag": "ABX9TyN4nuV8X97fy/zN2KQoJac5",
      "include_colab_link": true
    },
    "kernelspec": {
      "name": "python3",
      "display_name": "Python 3"
    },
    "language_info": {
      "name": "python"
    }
  },
  "cells": [
    {
      "cell_type": "markdown",
      "metadata": {
        "id": "view-in-github",
        "colab_type": "text"
      },
      "source": [
        "<a href=\"https://colab.research.google.com/github/Yash-Kamtekar/frequent-pattern-mining-apriori-and-fpgrowth/blob/main/Apriori_FP_Growth_Assignment.ipynb\" target=\"_parent\"><img src=\"https://colab.research.google.com/assets/colab-badge.svg\" alt=\"Open In Colab\"/></a>"
      ]
    },
    {
      "cell_type": "markdown",
      "metadata": {
        "id": "TIbZEciJpZ00"
      },
      "source": [
        "###Installing necessary libraries"
      ]
    },
    {
      "cell_type": "code",
      "metadata": {
        "colab": {
          "base_uri": "https://localhost:8080/"
        },
        "id": "5ORcLeepm2On",
        "outputId": "648b91c9-1ec6-43ac-82ca-dc18d9f00868"
      },
      "source": [
        "!pip install mlxtend --upgrade"
      ],
      "execution_count": 13,
      "outputs": [
        {
          "output_type": "stream",
          "name": "stdout",
          "text": [
            "Requirement already satisfied: mlxtend in /usr/local/lib/python3.7/dist-packages (0.19.0)\n",
            "Requirement already satisfied: scipy>=1.2.1 in /usr/local/lib/python3.7/dist-packages (from mlxtend) (1.4.1)\n",
            "Requirement already satisfied: scikit-learn>=0.20.3 in /usr/local/lib/python3.7/dist-packages (from mlxtend) (1.0.1)\n",
            "Requirement already satisfied: pandas>=0.24.2 in /usr/local/lib/python3.7/dist-packages (from mlxtend) (1.1.5)\n",
            "Requirement already satisfied: setuptools in /usr/local/lib/python3.7/dist-packages (from mlxtend) (57.4.0)\n",
            "Requirement already satisfied: matplotlib>=3.0.0 in /usr/local/lib/python3.7/dist-packages (from mlxtend) (3.2.2)\n",
            "Requirement already satisfied: numpy>=1.16.2 in /usr/local/lib/python3.7/dist-packages (from mlxtend) (1.19.5)\n",
            "Requirement already satisfied: joblib>=0.13.2 in /usr/local/lib/python3.7/dist-packages (from mlxtend) (1.1.0)\n",
            "Requirement already satisfied: pyparsing!=2.0.4,!=2.1.2,!=2.1.6,>=2.0.1 in /usr/local/lib/python3.7/dist-packages (from matplotlib>=3.0.0->mlxtend) (3.0.6)\n",
            "Requirement already satisfied: kiwisolver>=1.0.1 in /usr/local/lib/python3.7/dist-packages (from matplotlib>=3.0.0->mlxtend) (1.3.2)\n",
            "Requirement already satisfied: cycler>=0.10 in /usr/local/lib/python3.7/dist-packages (from matplotlib>=3.0.0->mlxtend) (0.11.0)\n",
            "Requirement already satisfied: python-dateutil>=2.1 in /usr/local/lib/python3.7/dist-packages (from matplotlib>=3.0.0->mlxtend) (2.8.2)\n",
            "Requirement already satisfied: pytz>=2017.2 in /usr/local/lib/python3.7/dist-packages (from pandas>=0.24.2->mlxtend) (2018.9)\n",
            "Requirement already satisfied: six>=1.5 in /usr/local/lib/python3.7/dist-packages (from python-dateutil>=2.1->matplotlib>=3.0.0->mlxtend) (1.15.0)\n",
            "Requirement already satisfied: threadpoolctl>=2.0.0 in /usr/local/lib/python3.7/dist-packages (from scikit-learn>=0.20.3->mlxtend) (3.0.0)\n"
          ]
        }
      ]
    },
    {
      "cell_type": "markdown",
      "metadata": {
        "id": "zTTSiovvpeme"
      },
      "source": [
        "###Importing necessary libraries"
      ]
    },
    {
      "cell_type": "code",
      "metadata": {
        "id": "6xXhNzs9nWUm"
      },
      "source": [
        "from google.colab import drive\n",
        "import pandas as pd\n",
        "from mlxtend.preprocessing import TransactionEncoder\n",
        "from mlxtend.frequent_patterns import apriori, fpgrowth, association_rules"
      ],
      "execution_count": 14,
      "outputs": []
    },
    {
      "cell_type": "markdown",
      "metadata": {
        "id": "VRvOtDJ_Cug-"
      },
      "source": [
        "mounting drive"
      ]
    },
    {
      "cell_type": "code",
      "metadata": {
        "colab": {
          "base_uri": "https://localhost:8080/"
        },
        "id": "yGfT-Eg2194A",
        "outputId": "9ef66a12-764e-425d-90b7-5bdd79a3457a"
      },
      "source": [
        "drive.mount(\"/content/drive\")"
      ],
      "execution_count": 15,
      "outputs": [
        {
          "output_type": "stream",
          "name": "stdout",
          "text": [
            "Drive already mounted at /content/drive; to attempt to forcibly remount, call drive.mount(\"/content/drive\", force_remount=True).\n"
          ]
        }
      ]
    },
    {
      "cell_type": "markdown",
      "metadata": {
        "id": "aRyyDGLPqF-C"
      },
      "source": [
        "###Load the data frame and change it to the necessary format"
      ]
    },
    {
      "cell_type": "code",
      "metadata": {
        "colab": {
          "base_uri": "https://localhost:8080/",
          "height": 424
        },
        "id": "lx9r3Qn32BQH",
        "outputId": "a778249f-8259-4679-a82e-4656e19943fc"
      },
      "source": [
        "df = pd.read_csv('/content/drive/MyDrive/255/Assignment_5/groceries.csv')\n",
        "df"
      ],
      "execution_count": 16,
      "outputs": [
        {
          "output_type": "execute_result",
          "data": {
            "text/html": [
              "<div>\n",
              "<style scoped>\n",
              "    .dataframe tbody tr th:only-of-type {\n",
              "        vertical-align: middle;\n",
              "    }\n",
              "\n",
              "    .dataframe tbody tr th {\n",
              "        vertical-align: top;\n",
              "    }\n",
              "\n",
              "    .dataframe thead th {\n",
              "        text-align: right;\n",
              "    }\n",
              "</style>\n",
              "<table border=\"1\" class=\"dataframe\">\n",
              "  <thead>\n",
              "    <tr style=\"text-align: right;\">\n",
              "      <th></th>\n",
              "      <th>Member_number</th>\n",
              "      <th>Date</th>\n",
              "      <th>itemDescription</th>\n",
              "    </tr>\n",
              "  </thead>\n",
              "  <tbody>\n",
              "    <tr>\n",
              "      <th>0</th>\n",
              "      <td>1808</td>\n",
              "      <td>21-07-2015</td>\n",
              "      <td>tropical fruit</td>\n",
              "    </tr>\n",
              "    <tr>\n",
              "      <th>1</th>\n",
              "      <td>2552</td>\n",
              "      <td>05-01-2015</td>\n",
              "      <td>whole milk</td>\n",
              "    </tr>\n",
              "    <tr>\n",
              "      <th>2</th>\n",
              "      <td>2300</td>\n",
              "      <td>19-09-2015</td>\n",
              "      <td>pip fruit</td>\n",
              "    </tr>\n",
              "    <tr>\n",
              "      <th>3</th>\n",
              "      <td>1187</td>\n",
              "      <td>12-12-2015</td>\n",
              "      <td>other vegetables</td>\n",
              "    </tr>\n",
              "    <tr>\n",
              "      <th>4</th>\n",
              "      <td>3037</td>\n",
              "      <td>01-02-2015</td>\n",
              "      <td>whole milk</td>\n",
              "    </tr>\n",
              "    <tr>\n",
              "      <th>...</th>\n",
              "      <td>...</td>\n",
              "      <td>...</td>\n",
              "      <td>...</td>\n",
              "    </tr>\n",
              "    <tr>\n",
              "      <th>38760</th>\n",
              "      <td>4471</td>\n",
              "      <td>08-10-2014</td>\n",
              "      <td>sliced cheese</td>\n",
              "    </tr>\n",
              "    <tr>\n",
              "      <th>38761</th>\n",
              "      <td>2022</td>\n",
              "      <td>23-02-2014</td>\n",
              "      <td>candy</td>\n",
              "    </tr>\n",
              "    <tr>\n",
              "      <th>38762</th>\n",
              "      <td>1097</td>\n",
              "      <td>16-04-2014</td>\n",
              "      <td>cake bar</td>\n",
              "    </tr>\n",
              "    <tr>\n",
              "      <th>38763</th>\n",
              "      <td>1510</td>\n",
              "      <td>03-12-2014</td>\n",
              "      <td>fruit/vegetable juice</td>\n",
              "    </tr>\n",
              "    <tr>\n",
              "      <th>38764</th>\n",
              "      <td>1521</td>\n",
              "      <td>26-12-2014</td>\n",
              "      <td>cat food</td>\n",
              "    </tr>\n",
              "  </tbody>\n",
              "</table>\n",
              "<p>38765 rows × 3 columns</p>\n",
              "</div>"
            ],
            "text/plain": [
              "       Member_number        Date        itemDescription\n",
              "0               1808  21-07-2015         tropical fruit\n",
              "1               2552  05-01-2015             whole milk\n",
              "2               2300  19-09-2015              pip fruit\n",
              "3               1187  12-12-2015       other vegetables\n",
              "4               3037  01-02-2015             whole milk\n",
              "...              ...         ...                    ...\n",
              "38760           4471  08-10-2014          sliced cheese\n",
              "38761           2022  23-02-2014                  candy\n",
              "38762           1097  16-04-2014               cake bar\n",
              "38763           1510  03-12-2014  fruit/vegetable juice\n",
              "38764           1521  26-12-2014               cat food\n",
              "\n",
              "[38765 rows x 3 columns]"
            ]
          },
          "metadata": {},
          "execution_count": 16
        }
      ]
    },
    {
      "cell_type": "code",
      "metadata": {
        "id": "Z_fgQX4rnsDH",
        "colab": {
          "base_uri": "https://localhost:8080/"
        },
        "outputId": "956bb243-d8da-48d2-aef8-3eb8303fc11e"
      },
      "source": [
        "df.product_name = [\"\".join(i.split(\",\")) for i in df.itemDescription]\n",
        "member_labels = df.Member_number.unique()\n",
        "transactions = [df[df.Member_number == i][\"itemDescription\"].tolist() for i in member_labels]\n",
        "trans_encoder = TransactionEncoder().fit(transactions)\n",
        "transactions = trans_encoder.transform(transactions)\n",
        "transactions = pd.DataFrame(transactions,columns=trans_encoder.columns_)"
      ],
      "execution_count": 17,
      "outputs": [
        {
          "output_type": "stream",
          "name": "stderr",
          "text": [
            "/usr/local/lib/python3.7/dist-packages/ipykernel_launcher.py:1: UserWarning: Pandas doesn't allow columns to be created via a new attribute name - see https://pandas.pydata.org/pandas-docs/stable/indexing.html#attribute-access\n",
            "  \"\"\"Entry point for launching an IPython kernel.\n"
          ]
        }
      ]
    },
    {
      "cell_type": "markdown",
      "metadata": {
        "id": "kGWkm-idqM75"
      },
      "source": [
        "###Calculate the frequent itemset using Apriori, also calculate the Association rules using Apriori."
      ]
    },
    {
      "cell_type": "code",
      "metadata": {
        "id": "slCHavZSn_z-"
      },
      "source": [
        "apriori_frequent_itemset = apriori(transactions, min_support = 0.0045, use_colnames = True)\n",
        "apriori_association_rules = association_rules(apriori_frequent_itemset, metric = \"confidence\")"
      ],
      "execution_count": 18,
      "outputs": []
    },
    {
      "cell_type": "markdown",
      "metadata": {
        "id": "emjzE-UUqby5"
      },
      "source": [
        "###Association Rules generation using Apriori Method"
      ]
    },
    {
      "cell_type": "code",
      "metadata": {
        "colab": {
          "base_uri": "https://localhost:8080/"
        },
        "id": "fLhzSzyToGBZ",
        "outputId": "04952bac-20cf-4017-ecf6-ba2f3ff1ebac"
      },
      "source": [
        "print(\"Association Rules using Apriori Method:- \\n\")\n",
        "for item in apriori_association_rules.iterrows():\n",
        "  print(f\"Rule {item[0] + 1}: {tuple(item[1].antecedents)} -> {tuple(item[1].consequents)}\")"
      ],
      "execution_count": 19,
      "outputs": [
        {
          "output_type": "stream",
          "name": "stdout",
          "text": [
            "Association Rules using Apriori Method:- \n",
            "\n",
            "Rule 1: ('meat spreads',) -> ('whole milk',)\n",
            "Rule 2: ('canned vegetables', 'bottled water') -> ('whole milk',)\n",
            "Rule 3: ('white bread', 'chewing gum') -> ('whole milk',)\n",
            "Rule 4: ('curd', 'ham') -> ('whole milk',)\n",
            "Rule 5: ('frozen fish', 'shopping bags') -> ('whole milk',)\n",
            "Rule 6: ('other vegetables', 'mayonnaise') -> ('whole milk',)\n",
            "Rule 7: ('sausage', 'soft cheese') -> ('whole milk',)\n",
            "Rule 8: ('beef', 'bottled beer', 'citrus fruit') -> ('whole milk',)\n",
            "Rule 9: ('beef', 'bottled beer', 'root vegetables') -> ('whole milk',)\n",
            "Rule 10: ('berries', 'bottled water', 'pip fruit') -> ('other vegetables',)\n",
            "Rule 11: ('berries', 'pip fruit', 'yogurt') -> ('whole milk',)\n",
            "Rule 12: ('berries', 'shopping bags', 'yogurt') -> ('whole milk',)\n",
            "Rule 13: ('bottled beer', 'brown bread', 'shopping bags') -> ('whole milk',)\n",
            "Rule 14: ('other vegetables', 'bottled beer', 'cat food') -> ('whole milk',)\n",
            "Rule 15: ('margarine', 'newspapers', 'bottled water') -> ('whole milk',)\n",
            "Rule 16: ('other vegetables', 'specialty chocolate', 'bottled water') -> ('whole milk',)\n",
            "Rule 17: ('curd', 'canned beer', 'brown bread') -> ('whole milk',)\n",
            "Rule 18: ('curd', 'soda', 'brown bread') -> ('whole milk',)\n",
            "Rule 19: ('other vegetables', 'meat', 'brown bread') -> ('whole milk',)\n",
            "Rule 20: ('rolls/buns', 'butter milk', 'shopping bags') -> ('whole milk',)\n",
            "Rule 21: ('citrus fruit', 'candy', 'yogurt') -> ('whole milk',)\n",
            "Rule 22: ('sausage', 'cat food', 'yogurt') -> ('other vegetables',)\n",
            "Rule 23: ('sausage', 'cat food', 'yogurt') -> ('whole milk',)\n",
            "Rule 24: ('pastry', 'chocolate', 'yogurt') -> ('whole milk',)\n",
            "Rule 25: ('ham', 'citrus fruit', 'yogurt') -> ('whole milk',)\n",
            "Rule 26: ('curd', 'soda', 'shopping bags') -> ('whole milk',)\n",
            "Rule 27: ('white bread', 'dessert', 'other vegetables') -> ('rolls/buns',)\n",
            "Rule 28: ('domestic eggs', 'other vegetables', 'meat') -> ('whole milk',)\n",
            "Rule 29: ('pastry', 'domestic eggs', 'pip fruit') -> ('whole milk',)\n",
            "Rule 30: ('frozen vegetables', 'yogurt', 'shopping bags') -> ('whole milk',)\n",
            "Rule 31: ('pastry', 'ham', 'yogurt') -> ('whole milk',)\n",
            "Rule 32: ('rolls/buns', 'ham', 'root vegetables') -> ('whole milk',)\n",
            "Rule 33: ('ham', 'root vegetables', 'yogurt') -> ('whole milk',)\n",
            "Rule 34: ('newspapers', 'hamburger meat', 'yogurt') -> ('whole milk',)\n",
            "Rule 35: ('white bread', 'soda', 'pork') -> ('whole milk',)\n",
            "Rule 36: ('sugar', 'rolls/buns', 'root vegetables') -> ('whole milk',)\n",
            "Rule 37: ('rolls/buns', 'bottled beer', 'citrus fruit', 'yogurt') -> ('whole milk',)\n",
            "Rule 38: ('pastry', 'other vegetables', 'bottled beer', 'yogurt') -> ('whole milk',)\n",
            "Rule 39: ('rolls/buns', 'other vegetables', 'bottled beer', 'yogurt') -> ('whole milk',)\n",
            "Rule 40: ('other vegetables', 'canned beer', 'bottled water', 'tropical fruit') -> ('whole milk',)\n",
            "Rule 41: ('other vegetables', 'yogurt', 'frankfurter', 'bottled water') -> ('whole milk',)\n",
            "Rule 42: ('pip fruit', 'other vegetables', 'yogurt', 'bottled water') -> ('whole milk',)\n",
            "Rule 43: ('pip fruit', 'rolls/buns', 'yogurt', 'bottled water') -> ('whole milk',)\n",
            "Rule 44: ('pip fruit', 'soda', 'yogurt', 'bottled water') -> ('whole milk',)\n",
            "Rule 45: ('rolls/buns', 'yogurt', 'root vegetables', 'bottled water') -> ('whole milk',)\n",
            "Rule 46: ('pastry', 'yogurt', 'brown bread', 'rolls/buns') -> ('whole milk',)\n",
            "Rule 47: ('rolls/buns', 'soda', 'brown bread', 'shopping bags') -> ('whole milk',)\n",
            "Rule 48: ('rolls/buns', 'yogurt', 'brown bread', 'shopping bags') -> ('whole milk',)\n",
            "Rule 49: ('butter', 'whipped/sour cream', 'other vegetables', 'yogurt') -> ('whole milk',)\n",
            "Rule 50: ('other vegetables', 'soda', 'canned beer', 'tropical fruit') -> ('whole milk',)\n",
            "Rule 51: ('other vegetables', 'canned beer', 'yogurt', 'tropical fruit') -> ('whole milk',)\n",
            "Rule 52: ('rolls/buns', 'soda', 'canned beer', 'shopping bags') -> ('whole milk',)\n",
            "Rule 53: ('rolls/buns', 'other vegetables', 'coffee', 'sausage') -> ('whole milk',)\n",
            "Rule 54: ('pastry', 'other vegetables', 'yogurt', 'rolls/buns') -> ('whole milk',)\n",
            "Rule 55: ('pastry', 'whipped/sour cream', 'other vegetables', 'yogurt') -> ('whole milk',)\n",
            "Rule 56: ('other vegetables', 'soda', 'pork', 'yogurt') -> ('whole milk',)\n",
            "Rule 57: ('pastry', 'yogurt', 'root vegetables', 'rolls/buns') -> ('whole milk',)\n",
            "Rule 58: ('yogurt', 'soda', 'pork', 'pip fruit') -> ('whole milk',)\n",
            "Rule 59: ('rolls/buns', 'soda', 'pork', 'shopping bags') -> ('whole milk',)\n"
          ]
        }
      ]
    },
    {
      "cell_type": "markdown",
      "metadata": {
        "id": "H3nYrk6NOAE4"
      },
      "source": [
        "###Visualization of support and confidence for Apriori"
      ]
    },
    {
      "cell_type": "code",
      "metadata": {
        "id": "Y13sgvSPMziu"
      },
      "source": [
        "support_for_apriori = apriori_association_rules['support'].values\n",
        "confidence_for_apriori = apriori_association_rules['confidence'].values"
      ],
      "execution_count": 20,
      "outputs": []
    },
    {
      "cell_type": "code",
      "metadata": {
        "colab": {
          "base_uri": "https://localhost:8080/",
          "height": 280
        },
        "id": "rH6LzlEzM48_",
        "outputId": "0187d41f-39fe-4dbf-9f44-2c4af9eaf0e9"
      },
      "source": [
        "import random\n",
        "import matplotlib.pyplot as plt\n",
        "\n",
        "\n",
        "for i in range (len(support_for_apriori)):\n",
        "   support_for_apriori[i] = support_for_apriori[i] + 0.0025 * (random.randint(1, 10) - 5)\n",
        "   confidence_for_apriori[i] = confidence_for_apriori[i] + 0.0025 * (random.randint(1, 10) - 5)\n",
        "\n",
        "plt.scatter(support_for_apriori, confidence_for_apriori, alpha = 0.5, marker = \"*\")\n",
        "plt.xlabel('support_for_apriori')\n",
        "plt.ylabel('confidence_for_apriori')\n",
        "plt.show()"
      ],
      "execution_count": 21,
      "outputs": [
        {
          "output_type": "display_data",
          "data": {
            "image/png": "[encoded data removed]",
            "text/plain": [
              "<Figure size 432x288 with 1 Axes>"
            ]
          },
          "metadata": {
            "needs_background": "light"
          }
        }
      ]
    },
    {
      "cell_type": "markdown",
      "source": [
        "###Calculate the frequent itemset using FPGrowth, also calculate the Association rules using FPGrowth."
      ],
      "metadata": {
        "id": "dmjP3zmeMjXS"
      }
    },
    {
      "cell_type": "code",
      "source": [
        "fpgrowth_frequent_itemset = fpgrowth(transactions, min_support = 0.0045, use_colnames=True)\n",
        "fpgrowth_association_rules = association_rules(fpgrowth_frequent_itemset, metric = \"confidence\")"
      ],
      "metadata": {
        "id": "Qu05W4-bMjko"
      },
      "execution_count": 22,
      "outputs": []
    },
    {
      "cell_type": "markdown",
      "metadata": {
        "id": "BCGuV3kjqrsi"
      },
      "source": [
        "###Association Rules generation using FPGrowth Method"
      ]
    },
    {
      "cell_type": "code",
      "metadata": {
        "colab": {
          "base_uri": "https://localhost:8080/"
        },
        "id": "vrXH8eazoIp0",
        "outputId": "b28d7069-8470-48ef-afb1-69cef5114910"
      },
      "source": [
        "print(\"Association Rules using fpgrowth Method:- \\n\")\n",
        "for item in fpgrowth_association_rules.iterrows():\n",
        "  print(f\"Rule {item[0] + 1}: {tuple(item[1].antecedents)} -> {tuple(item[1].consequents)}\")"
      ],
      "execution_count": 23,
      "outputs": [
        {
          "output_type": "stream",
          "name": "stdout",
          "text": [
            "Association Rules using fpgrowth Method:- \n",
            "\n",
            "Rule 1: ('sugar', 'rolls/buns', 'root vegetables') -> ('whole milk',)\n",
            "Rule 2: ('domestic eggs', 'other vegetables', 'meat') -> ('whole milk',)\n",
            "Rule 3: ('other vegetables', 'meat', 'brown bread') -> ('whole milk',)\n",
            "Rule 4: ('citrus fruit', 'candy', 'yogurt') -> ('whole milk',)\n",
            "Rule 5: ('butter', 'whipped/sour cream', 'other vegetables', 'yogurt') -> ('whole milk',)\n",
            "Rule 6: ('rolls/buns', 'other vegetables', 'coffee', 'sausage') -> ('whole milk',)\n",
            "Rule 7: ('pastry', 'chocolate', 'yogurt') -> ('whole milk',)\n",
            "Rule 8: ('pip fruit', 'other vegetables', 'yogurt', 'bottled water') -> ('whole milk',)\n",
            "Rule 9: ('pip fruit', 'rolls/buns', 'yogurt', 'bottled water') -> ('whole milk',)\n",
            "Rule 10: ('pip fruit', 'soda', 'yogurt', 'bottled water') -> ('whole milk',)\n",
            "Rule 11: ('other vegetables', 'yogurt', 'frankfurter', 'bottled water') -> ('whole milk',)\n",
            "Rule 12: ('yogurt', 'soda', 'pork', 'pip fruit') -> ('whole milk',)\n",
            "Rule 13: ('rolls/buns', 'soda', 'pork', 'shopping bags') -> ('whole milk',)\n",
            "Rule 14: ('other vegetables', 'soda', 'pork', 'yogurt') -> ('whole milk',)\n",
            "Rule 15: ('pastry', 'domestic eggs', 'pip fruit') -> ('whole milk',)\n",
            "Rule 16: ('white bread', 'soda', 'pork') -> ('whole milk',)\n",
            "Rule 17: ('ham', 'citrus fruit', 'yogurt') -> ('whole milk',)\n",
            "Rule 18: ('pastry', 'ham', 'yogurt') -> ('whole milk',)\n",
            "Rule 19: ('rolls/buns', 'ham', 'root vegetables') -> ('whole milk',)\n",
            "Rule 20: ('ham', 'root vegetables', 'yogurt') -> ('whole milk',)\n",
            "Rule 21: ('curd', 'ham') -> ('whole milk',)\n",
            "Rule 22: ('other vegetables', 'canned beer', 'bottled water', 'tropical fruit') -> ('whole milk',)\n",
            "Rule 23: ('rolls/buns', 'soda', 'canned beer', 'shopping bags') -> ('whole milk',)\n",
            "Rule 24: ('other vegetables', 'canned beer', 'yogurt', 'tropical fruit') -> ('whole milk',)\n",
            "Rule 25: ('other vegetables', 'soda', 'canned beer', 'tropical fruit') -> ('whole milk',)\n",
            "Rule 26: ('rolls/buns', 'other vegetables', 'bottled beer', 'yogurt') -> ('whole milk',)\n",
            "Rule 27: ('rolls/buns', 'bottled beer', 'citrus fruit', 'yogurt') -> ('whole milk',)\n",
            "Rule 28: ('pastry', 'other vegetables', 'bottled beer', 'yogurt') -> ('whole milk',)\n",
            "Rule 29: ('newspapers', 'hamburger meat', 'yogurt') -> ('whole milk',)\n",
            "Rule 30: ('rolls/buns', 'butter milk', 'shopping bags') -> ('whole milk',)\n",
            "Rule 31: ('rolls/buns', 'yogurt', 'root vegetables', 'bottled water') -> ('whole milk',)\n",
            "Rule 32: ('rolls/buns', 'soda', 'brown bread', 'shopping bags') -> ('whole milk',)\n",
            "Rule 33: ('rolls/buns', 'yogurt', 'brown bread', 'shopping bags') -> ('whole milk',)\n",
            "Rule 34: ('pastry', 'yogurt', 'brown bread', 'rolls/buns') -> ('whole milk',)\n",
            "Rule 35: ('bottled beer', 'brown bread', 'shopping bags') -> ('whole milk',)\n",
            "Rule 36: ('white bread', 'dessert', 'other vegetables') -> ('rolls/buns',)\n",
            "Rule 37: ('berries', 'shopping bags', 'yogurt') -> ('whole milk',)\n",
            "Rule 38: ('berries', 'bottled water', 'pip fruit') -> ('other vegetables',)\n",
            "Rule 39: ('berries', 'pip fruit', 'yogurt') -> ('whole milk',)\n",
            "Rule 40: ('pastry', 'whipped/sour cream', 'other vegetables', 'yogurt') -> ('whole milk',)\n",
            "Rule 41: ('white bread', 'chewing gum') -> ('whole milk',)\n",
            "Rule 42: ('pastry', 'yogurt', 'root vegetables', 'rolls/buns') -> ('whole milk',)\n",
            "Rule 43: ('pastry', 'other vegetables', 'yogurt', 'rolls/buns') -> ('whole milk',)\n",
            "Rule 44: ('beef', 'bottled beer', 'root vegetables') -> ('whole milk',)\n",
            "Rule 45: ('beef', 'bottled beer', 'citrus fruit') -> ('whole milk',)\n",
            "Rule 46: ('frozen vegetables', 'yogurt', 'shopping bags') -> ('whole milk',)\n",
            "Rule 47: ('other vegetables', 'specialty chocolate', 'bottled water') -> ('whole milk',)\n",
            "Rule 48: ('margarine', 'newspapers', 'bottled water') -> ('whole milk',)\n",
            "Rule 49: ('curd', 'soda', 'shopping bags') -> ('whole milk',)\n",
            "Rule 50: ('curd', 'canned beer', 'brown bread') -> ('whole milk',)\n",
            "Rule 51: ('curd', 'soda', 'brown bread') -> ('whole milk',)\n",
            "Rule 52: ('sausage', 'soft cheese') -> ('whole milk',)\n",
            "Rule 53: ('canned vegetables', 'bottled water') -> ('whole milk',)\n",
            "Rule 54: ('sausage', 'cat food', 'yogurt') -> ('other vegetables',)\n",
            "Rule 55: ('sausage', 'cat food', 'yogurt') -> ('whole milk',)\n",
            "Rule 56: ('other vegetables', 'bottled beer', 'cat food') -> ('whole milk',)\n",
            "Rule 57: ('meat spreads',) -> ('whole milk',)\n",
            "Rule 58: ('frozen fish', 'shopping bags') -> ('whole milk',)\n",
            "Rule 59: ('other vegetables', 'mayonnaise') -> ('whole milk',)\n"
          ]
        }
      ]
    },
    {
      "cell_type": "markdown",
      "metadata": {
        "id": "xtyEjFahOGf9"
      },
      "source": [
        "###Visualization of support and confidence for FP Growth"
      ]
    },
    {
      "cell_type": "code",
      "metadata": {
        "id": "9Ui0sYm8NMPS"
      },
      "source": [
        "support_for_fp = fpgrowth_association_rules['support'].values\n",
        "confidence_for_fp = fpgrowth_association_rules['confidence'].values"
      ],
      "execution_count": 24,
      "outputs": []
    },
    {
      "cell_type": "code",
      "metadata": {
        "colab": {
          "base_uri": "https://localhost:8080/",
          "height": 280
        },
        "id": "McLfX4TMNWNU",
        "outputId": "516d616c-2a0e-445e-d8ae-c1ce1f763df8"
      },
      "source": [
        "import random\n",
        "import matplotlib.pyplot as plt\n",
        "\n",
        "\n",
        "for i in range (len(support_for_fp)):\n",
        "   support_for_fp[i] = support_for_fp[i] + 0.0025 * (random.randint(1,10) - 5)\n",
        "   confidence_for_fp[i] = confidence_for_fp[i] + 0.0025 * (random.randint(1,10) - 5)\n",
        " \n",
        "plt.scatter(support_for_fp, confidence_for_fp,   alpha=0.5, marker=\"*\")\n",
        "plt.xlabel('support_for_fp')\n",
        "plt.ylabel('confidence_for_fp')\n",
        "plt.show()"
      ],
      "execution_count": 25,
      "outputs": [
        {
          "output_type": "display_data",
          "data": {
            "image/png": "[encoded data removed]",
            "text/plain": [
              "<Figure size 432x288 with 1 Axes>"
            ]
          },
          "metadata": {
            "needs_background": "light"
          }
        }
      ]
    }
  ]
}